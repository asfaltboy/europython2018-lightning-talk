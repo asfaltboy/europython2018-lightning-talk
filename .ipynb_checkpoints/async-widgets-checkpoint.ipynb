{
 "cells": [
  {
   "cell_type": "code",
   "execution_count": 1,
   "metadata": {},
   "outputs": [],
   "source": [
    "%gui asyncio"
   ]
  },
  {
   "cell_type": "code",
   "execution_count": 2,
   "metadata": {},
   "outputs": [],
   "source": [
    "import asyncio\n",
    "from ipywidgets import widgets"
   ]
  },
  {
   "cell_type": "code",
   "execution_count": 3,
   "metadata": {},
   "outputs": [],
   "source": [
    "slider_widget = widgets.IntSlider(42, 30, 60)\n",
    "argument_widget = widgets.HTML('Awaiting argument...')\n",
    "result_widget = widgets.HTML('Awaiting result...')"
   ]
  },
  {
   "cell_type": "code",
   "execution_count": 4,
   "metadata": {},
   "outputs": [],
   "source": [
    "async def slow_square(value: int) -> int:\n",
    "    await asyncio.sleep(0.5)  # Yawn\n",
    "    return value * value"
   ]
  },
  {
   "cell_type": "code",
   "execution_count": 5,
   "metadata": {},
   "outputs": [],
   "source": [
    "async def async_handler(value: int):\n",
    "    result = await slow_square(value)\n",
    "    result_widget.value = f'<h2>{result}</h2>'\n",
    "\n",
    "def observer(change):\n",
    "    value = change.new\n",
    "    argument_widget.value = f'<h3>{value}</h3>'\n",
    "    asyncio.ensure_future(async_handler(value))  # Attach the coro to current loop"
   ]
  },
  {
   "cell_type": "code",
   "execution_count": 6,
   "metadata": {},
   "outputs": [],
   "source": [
    "slider_widget.observe(observer, 'value')"
   ]
  },
  {
   "cell_type": "code",
   "execution_count": 7,
   "metadata": {},
   "outputs": [
    {
     "data": {
      "application/vnd.jupyter.widget-view+json": {
       "model_id": "80401c92ef844800b6a8538a4080489e",
       "version_major": 2,
       "version_minor": 0
      },
      "text/plain": [
       "VBox(children=(IntSlider(value=42, max=60, min=30), HTML(value='Awaiting argument...'), HTML(value='Awaiting r…"
      ]
     },
     "metadata": {},
     "output_type": "display_data"
    }
   ],
   "source": [
    "widgets.VBox([slider_widget, argument_widget, result_widget])"
   ]
  },
  {
   "cell_type": "code",
   "execution_count": null,
   "metadata": {},
   "outputs": [],
   "source": []
  }
 ],
 "metadata": {
  "kernelspec": {
   "display_name": "Python 3",
   "language": "python",
   "name": "python3"
  },
  "language_info": {
   "codemirror_mode": {
    "name": "ipython",
    "version": 3
   },
   "file_extension": ".py",
   "mimetype": "text/x-python",
   "name": "python",
   "nbconvert_exporter": "python",
   "pygments_lexer": "ipython3",
   "version": "3.6.6"
  }
 },
 "nbformat": 4,
 "nbformat_minor": 2
}
